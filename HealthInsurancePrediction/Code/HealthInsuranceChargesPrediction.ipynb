{
  "nbformat": 4,
  "nbformat_minor": 0,
  "metadata": {
    "colab": {
      "name": "HealthInsuranceChargesPrediction.ipynb",
      "provenance": [],
      "collapsed_sections": [],
      "toc_visible": true
    },
    "kernelspec": {
      "name": "python3",
      "display_name": "Python 3"
    }
  },
  "cells": [
    {
      "cell_type": "markdown",
      "metadata": {
        "id": "E1G637hM8iJq"
      },
      "source": [
        "#Insurance Amount prediction"
      ]
    },
    {
      "cell_type": "code",
      "metadata": {
        "id": "Jtm9Qzze8T-i"
      },
      "source": [
        "import pandas as pd\r\n",
        "import numpy as np\r\n",
        "import matplotlib.pyplot as plt\r\n",
        "import seaborn as sns\r\n",
        "from sklearn.preprocessing import StandardScaler\r\n",
        "%matplotlib inline"
      ],
      "execution_count": 52,
      "outputs": []
    },
    {
      "cell_type": "code",
      "metadata": {
        "id": "V8Fwu0or8n4w"
      },
      "source": [
        "df_train=pd.read_csv('/content/drive/MyDrive/Colab Notebooks/Projects/Health Insurance Charges Prediction/insurance.csv')"
      ],
      "execution_count": 53,
      "outputs": []
    },
    {
      "cell_type": "code",
      "metadata": {
        "colab": {
          "base_uri": "https://localhost:8080/"
        },
        "id": "HBAp2wP6837n",
        "outputId": "34bdb9b6-5be7-4a72-e969-e21827870ae4"
      },
      "source": [
        "df_train.shape"
      ],
      "execution_count": 54,
      "outputs": [
        {
          "output_type": "execute_result",
          "data": {
            "text/plain": [
              "(1338, 7)"
            ]
          },
          "metadata": {
            "tags": []
          },
          "execution_count": 54
        }
      ]
    },
    {
      "cell_type": "code",
      "metadata": {
        "colab": {
          "base_uri": "https://localhost:8080/"
        },
        "id": "zwC09jgp85l-",
        "outputId": "8a82808f-8a0e-480d-cada-828c5e4a198d"
      },
      "source": [
        "df_train.columns"
      ],
      "execution_count": 55,
      "outputs": [
        {
          "output_type": "execute_result",
          "data": {
            "text/plain": [
              "Index(['age', 'sex', 'bmi', 'children', 'smoker', 'region', 'charges'], dtype='object')"
            ]
          },
          "metadata": {
            "tags": []
          },
          "execution_count": 55
        }
      ]
    },
    {
      "cell_type": "code",
      "metadata": {
        "colab": {
          "base_uri": "https://localhost:8080/"
        },
        "id": "XSAmAWrU88Bo",
        "outputId": "9c180085-9268-4de6-b155-84b15ab2270d"
      },
      "source": [
        "df_train.dtypes"
      ],
      "execution_count": 56,
      "outputs": [
        {
          "output_type": "execute_result",
          "data": {
            "text/plain": [
              "age           int64\n",
              "sex          object\n",
              "bmi         float64\n",
              "children      int64\n",
              "smoker       object\n",
              "region       object\n",
              "charges     float64\n",
              "dtype: object"
            ]
          },
          "metadata": {
            "tags": []
          },
          "execution_count": 56
        }
      ]
    },
    {
      "cell_type": "markdown",
      "metadata": {
        "id": "0yGNHFEM9Gsa"
      },
      "source": [
        "Target variable 'Charges'"
      ]
    },
    {
      "cell_type": "code",
      "metadata": {
        "colab": {
          "base_uri": "https://localhost:8080/"
        },
        "id": "0Hzwau8v8_DW",
        "outputId": "fcb515aa-ef1e-4b3b-9d70-1de5ed926cf7"
      },
      "source": [
        "df_train['charges'].describe()"
      ],
      "execution_count": 57,
      "outputs": [
        {
          "output_type": "execute_result",
          "data": {
            "text/plain": [
              "count     1338.000000\n",
              "mean     13270.422265\n",
              "std      12110.011237\n",
              "min       1121.873900\n",
              "25%       4740.287150\n",
              "50%       9382.033000\n",
              "75%      16639.912515\n",
              "max      63770.428010\n",
              "Name: charges, dtype: float64"
            ]
          },
          "metadata": {
            "tags": []
          },
          "execution_count": 57
        }
      ]
    },
    {
      "cell_type": "code",
      "metadata": {
        "colab": {
          "base_uri": "https://localhost:8080/"
        },
        "id": "1x8zYuMv9LRT",
        "outputId": "3c0f644e-05d6-4c0a-f962-534a136e3272"
      },
      "source": [
        "df_train['charges'].isnull().sum()"
      ],
      "execution_count": 58,
      "outputs": [
        {
          "output_type": "execute_result",
          "data": {
            "text/plain": [
              "0"
            ]
          },
          "metadata": {
            "tags": []
          },
          "execution_count": 58
        }
      ]
    },
    {
      "cell_type": "code",
      "metadata": {
        "colab": {
          "base_uri": "https://localhost:8080/",
          "height": 368
        },
        "id": "Drjq19qH9W3_",
        "outputId": "24b71e9e-95f9-4725-9be2-d50ef9afa5c1"
      },
      "source": [
        "sns.displot(df_train['charges'],);"
      ],
      "execution_count": 59,
      "outputs": [
        {
          "output_type": "display_data",
          "data": {
            "image/png": "[encoded data removed]",
            "text/plain": [
              "<Figure size 360x360 with 1 Axes>"
            ]
          },
          "metadata": {
            "tags": [],
            "needs_background": "light"
          }
        }
      ]
    },
    {
      "cell_type": "code",
      "metadata": {
        "colab": {
          "base_uri": "https://localhost:8080/"
        },
        "id": "rKsOFoMo9cCf",
        "outputId": "db5e9d3d-69dd-4ad4-d463-9dac6188c46d"
      },
      "source": [
        "df_train.isnull().sum()"
      ],
      "execution_count": 60,
      "outputs": [
        {
          "output_type": "execute_result",
          "data": {
            "text/plain": [
              "age         0\n",
              "sex         0\n",
              "bmi         0\n",
              "children    0\n",
              "smoker      0\n",
              "region      0\n",
              "charges     0\n",
              "dtype: int64"
            ]
          },
          "metadata": {
            "tags": []
          },
          "execution_count": 60
        }
      ]
    },
    {
      "cell_type": "code",
      "metadata": {
        "colab": {
          "base_uri": "https://localhost:8080/"
        },
        "id": "_1jb2ijk9pSf",
        "outputId": "eee4504f-1a2d-462c-c5f4-8c38a1532db8"
      },
      "source": [
        "df_train.select_dtypes(include=np.number).columns.tolist()"
      ],
      "execution_count": 61,
      "outputs": [
        {
          "output_type": "execute_result",
          "data": {
            "text/plain": [
              "['age', 'bmi', 'children', 'charges']"
            ]
          },
          "metadata": {
            "tags": []
          },
          "execution_count": 61
        }
      ]
    },
    {
      "cell_type": "code",
      "metadata": {
        "colab": {
          "base_uri": "https://localhost:8080/"
        },
        "id": "1UChwstm9zT7",
        "outputId": "26198f06-0d55-4777-91a3-796bf88f3541"
      },
      "source": [
        "df_train.columns[df_train.isnull().any()]"
      ],
      "execution_count": 62,
      "outputs": [
        {
          "output_type": "execute_result",
          "data": {
            "text/plain": [
              "Index([], dtype='object')"
            ]
          },
          "metadata": {
            "tags": []
          },
          "execution_count": 62
        }
      ]
    },
    {
      "cell_type": "code",
      "metadata": {
        "colab": {
          "base_uri": "https://localhost:8080/"
        },
        "id": "zurP8Jpm-Th8",
        "outputId": "fd818e12-e29a-4c37-e499-3b88268952cc"
      },
      "source": [
        "print (round((df_train.isnull().sum()).sort_values(ascending=False)))"
      ],
      "execution_count": 63,
      "outputs": [
        {
          "output_type": "stream",
          "text": [
            "charges     0\n",
            "region      0\n",
            "smoker      0\n",
            "children    0\n",
            "bmi         0\n",
            "sex         0\n",
            "age         0\n",
            "dtype: int64\n"
          ],
          "name": "stdout"
        }
      ]
    },
    {
      "cell_type": "code",
      "metadata": {
        "colab": {
          "base_uri": "https://localhost:8080/"
        },
        "id": "5X42TGBi-VNp",
        "outputId": "55492689-1195-4387-d2f8-634f08b5813e"
      },
      "source": [
        "print (round((df_train.isnull().sum() * 100/ len(df_train)),2).sort_values(ascending=False))"
      ],
      "execution_count": 64,
      "outputs": [
        {
          "output_type": "stream",
          "text": [
            "charges     0.0\n",
            "region      0.0\n",
            "smoker      0.0\n",
            "children    0.0\n",
            "bmi         0.0\n",
            "sex         0.0\n",
            "age         0.0\n",
            "dtype: float64\n"
          ],
          "name": "stdout"
        }
      ]
    },
    {
      "cell_type": "code",
      "metadata": {
        "colab": {
          "base_uri": "https://localhost:8080/",
          "height": 83
        },
        "id": "xfufLzHL-hm-",
        "outputId": "7607a469-c7dd-423e-ec69-023dfb8d7bd5"
      },
      "source": [
        "def missing_zero_values_table(df):\r\n",
        "        zero_val = (df == 0.00).astype(int).sum(axis=0)\r\n",
        "        mis_val = df.isnull().sum()\r\n",
        "        mis_val_percent = 100 * df.isnull().sum() / len(df)\r\n",
        "        mz_table = pd.concat([zero_val, mis_val, mis_val_percent], axis=1)\r\n",
        "        mz_table = mz_table.rename(\r\n",
        "        columns = {0 : 'Zero Values', 1 : 'Missing Values', 2 : '% of Total Values'})\r\n",
        "        mz_table['Total Zero Missing Values'] = mz_table['Zero Values'] + mz_table['Missing Values']\r\n",
        "        mz_table['% Total Zero Missing Values'] = 100 * mz_table['Total Zero Missing Values'] / len(df)\r\n",
        "        mz_table['Data Type'] = df.dtypes\r\n",
        "        mz_table = mz_table[\r\n",
        "            mz_table.iloc[:,1] != 0].sort_values(\r\n",
        "        '% of Total Values', ascending=False).round(1)\r\n",
        "        print (\"Your selected dataframe has \" + str(df.shape[1]) + \" columns and \" + str(df.shape[0]) + \" Rows.\\n\"      \r\n",
        "            \"There are \" + str(mz_table.shape[0]) +\r\n",
        "              \" columns that have missing values.\")\r\n",
        "#         mz_table.to_excel('D:/sampledata/missing_and_zero_values.xlsx', freeze_panes=(1,0), index = False)\r\n",
        "        return mz_table\r\n",
        "\r\n",
        "missing_zero_values_table(df_train)"
      ],
      "execution_count": 65,
      "outputs": [
        {
          "output_type": "stream",
          "text": [
            "Your selected dataframe has 7 columns and 1338 Rows.\n",
            "There are 0 columns that have missing values.\n"
          ],
          "name": "stdout"
        },
        {
          "output_type": "execute_result",
          "data": {
            "text/html": [
              "<div>\n",
              "<style scoped>\n",
              "    .dataframe tbody tr th:only-of-type {\n",
              "        vertical-align: middle;\n",
              "    }\n",
              "\n",
              "    .dataframe tbody tr th {\n",
              "        vertical-align: top;\n",
              "    }\n",
              "\n",
              "    .dataframe thead th {\n",
              "        text-align: right;\n",
              "    }\n",
              "</style>\n",
              "<table border=\"1\" class=\"dataframe\">\n",
              "  <thead>\n",
              "    <tr style=\"text-align: right;\">\n",
              "      <th></th>\n",
              "      <th>Zero Values</th>\n",
              "      <th>Missing Values</th>\n",
              "      <th>% of Total Values</th>\n",
              "      <th>Total Zero Missing Values</th>\n",
              "      <th>% Total Zero Missing Values</th>\n",
              "      <th>Data Type</th>\n",
              "    </tr>\n",
              "  </thead>\n",
              "  <tbody>\n",
              "  </tbody>\n",
              "</table>\n",
              "</div>"
            ],
            "text/plain": [
              "Empty DataFrame\n",
              "Columns: [Zero Values, Missing Values, % of Total Values, Total Zero Missing Values, % Total Zero Missing Values, Data Type]\n",
              "Index: []"
            ]
          },
          "metadata": {
            "tags": []
          },
          "execution_count": 65
        }
      ]
    },
    {
      "cell_type": "code",
      "metadata": {
        "colab": {
          "base_uri": "https://localhost:8080/",
          "height": 167
        },
        "id": "40wUB6cj-wBm",
        "outputId": "fe7e5d13-7959-41bc-9362-abeee9d6443b"
      },
      "source": [
        "df_train.corr()"
      ],
      "execution_count": 66,
      "outputs": [
        {
          "output_type": "execute_result",
          "data": {
            "text/html": [
              "<div>\n",
              "<style scoped>\n",
              "    .dataframe tbody tr th:only-of-type {\n",
              "        vertical-align: middle;\n",
              "    }\n",
              "\n",
              "    .dataframe tbody tr th {\n",
              "        vertical-align: top;\n",
              "    }\n",
              "\n",
              "    .dataframe thead th {\n",
              "        text-align: right;\n",
              "    }\n",
              "</style>\n",
              "<table border=\"1\" class=\"dataframe\">\n",
              "  <thead>\n",
              "    <tr style=\"text-align: right;\">\n",
              "      <th></th>\n",
              "      <th>age</th>\n",
              "      <th>bmi</th>\n",
              "      <th>children</th>\n",
              "      <th>charges</th>\n",
              "    </tr>\n",
              "  </thead>\n",
              "  <tbody>\n",
              "    <tr>\n",
              "      <th>age</th>\n",
              "      <td>1.000000</td>\n",
              "      <td>0.109272</td>\n",
              "      <td>0.042469</td>\n",
              "      <td>0.299008</td>\n",
              "    </tr>\n",
              "    <tr>\n",
              "      <th>bmi</th>\n",
              "      <td>0.109272</td>\n",
              "      <td>1.000000</td>\n",
              "      <td>0.012759</td>\n",
              "      <td>0.198341</td>\n",
              "    </tr>\n",
              "    <tr>\n",
              "      <th>children</th>\n",
              "      <td>0.042469</td>\n",
              "      <td>0.012759</td>\n",
              "      <td>1.000000</td>\n",
              "      <td>0.067998</td>\n",
              "    </tr>\n",
              "    <tr>\n",
              "      <th>charges</th>\n",
              "      <td>0.299008</td>\n",
              "      <td>0.198341</td>\n",
              "      <td>0.067998</td>\n",
              "      <td>1.000000</td>\n",
              "    </tr>\n",
              "  </tbody>\n",
              "</table>\n",
              "</div>"
            ],
            "text/plain": [
              "               age       bmi  children   charges\n",
              "age       1.000000  0.109272  0.042469  0.299008\n",
              "bmi       0.109272  1.000000  0.012759  0.198341\n",
              "children  0.042469  0.012759  1.000000  0.067998\n",
              "charges   0.299008  0.198341  0.067998  1.000000"
            ]
          },
          "metadata": {
            "tags": []
          },
          "execution_count": 66
        }
      ]
    },
    {
      "cell_type": "code",
      "metadata": {
        "colab": {
          "base_uri": "https://localhost:8080/"
        },
        "id": "KgoU1EVB_hpa",
        "outputId": "b0f94ac1-8bd0-44ff-96f8-d424c0661a41"
      },
      "source": [
        "df_train['region'].value_counts()"
      ],
      "execution_count": 67,
      "outputs": [
        {
          "output_type": "execute_result",
          "data": {
            "text/plain": [
              "southeast    364\n",
              "southwest    325\n",
              "northwest    325\n",
              "northeast    324\n",
              "Name: region, dtype: int64"
            ]
          },
          "metadata": {
            "tags": []
          },
          "execution_count": 67
        }
      ]
    },
    {
      "cell_type": "code",
      "metadata": {
        "id": "tOz73IuG_uFn",
        "colab": {
          "base_uri": "https://localhost:8080/",
          "height": 406
        },
        "outputId": "f33e1946-34f1-47fb-ed8b-7c248a200b71"
      },
      "source": [
        "df_train"
      ],
      "execution_count": 68,
      "outputs": [
        {
          "output_type": "execute_result",
          "data": {
            "text/html": [
              "<div>\n",
              "<style scoped>\n",
              "    .dataframe tbody tr th:only-of-type {\n",
              "        vertical-align: middle;\n",
              "    }\n",
              "\n",
              "    .dataframe tbody tr th {\n",
              "        vertical-align: top;\n",
              "    }\n",
              "\n",
              "    .dataframe thead th {\n",
              "        text-align: right;\n",
              "    }\n",
              "</style>\n",
              "<table border=\"1\" class=\"dataframe\">\n",
              "  <thead>\n",
              "    <tr style=\"text-align: right;\">\n",
              "      <th></th>\n",
              "      <th>age</th>\n",
              "      <th>sex</th>\n",
              "      <th>bmi</th>\n",
              "      <th>children</th>\n",
              "      <th>smoker</th>\n",
              "      <th>region</th>\n",
              "      <th>charges</th>\n",
              "    </tr>\n",
              "  </thead>\n",
              "  <tbody>\n",
              "    <tr>\n",
              "      <th>0</th>\n",
              "      <td>19</td>\n",
              "      <td>female</td>\n",
              "      <td>27.900</td>\n",
              "      <td>0</td>\n",
              "      <td>yes</td>\n",
              "      <td>southwest</td>\n",
              "      <td>16884.92400</td>\n",
              "    </tr>\n",
              "    <tr>\n",
              "      <th>1</th>\n",
              "      <td>18</td>\n",
              "      <td>male</td>\n",
              "      <td>33.770</td>\n",
              "      <td>1</td>\n",
              "      <td>no</td>\n",
              "      <td>southeast</td>\n",
              "      <td>1725.55230</td>\n",
              "    </tr>\n",
              "    <tr>\n",
              "      <th>2</th>\n",
              "      <td>28</td>\n",
              "      <td>male</td>\n",
              "      <td>33.000</td>\n",
              "      <td>3</td>\n",
              "      <td>no</td>\n",
              "      <td>southeast</td>\n",
              "      <td>4449.46200</td>\n",
              "    </tr>\n",
              "    <tr>\n",
              "      <th>3</th>\n",
              "      <td>33</td>\n",
              "      <td>male</td>\n",
              "      <td>22.705</td>\n",
              "      <td>0</td>\n",
              "      <td>no</td>\n",
              "      <td>northwest</td>\n",
              "      <td>21984.47061</td>\n",
              "    </tr>\n",
              "    <tr>\n",
              "      <th>4</th>\n",
              "      <td>32</td>\n",
              "      <td>male</td>\n",
              "      <td>28.880</td>\n",
              "      <td>0</td>\n",
              "      <td>no</td>\n",
              "      <td>northwest</td>\n",
              "      <td>3866.85520</td>\n",
              "    </tr>\n",
              "    <tr>\n",
              "      <th>...</th>\n",
              "      <td>...</td>\n",
              "      <td>...</td>\n",
              "      <td>...</td>\n",
              "      <td>...</td>\n",
              "      <td>...</td>\n",
              "      <td>...</td>\n",
              "      <td>...</td>\n",
              "    </tr>\n",
              "    <tr>\n",
              "      <th>1333</th>\n",
              "      <td>50</td>\n",
              "      <td>male</td>\n",
              "      <td>30.970</td>\n",
              "      <td>3</td>\n",
              "      <td>no</td>\n",
              "      <td>northwest</td>\n",
              "      <td>10600.54830</td>\n",
              "    </tr>\n",
              "    <tr>\n",
              "      <th>1334</th>\n",
              "      <td>18</td>\n",
              "      <td>female</td>\n",
              "      <td>31.920</td>\n",
              "      <td>0</td>\n",
              "      <td>no</td>\n",
              "      <td>northeast</td>\n",
              "      <td>2205.98080</td>\n",
              "    </tr>\n",
              "    <tr>\n",
              "      <th>1335</th>\n",
              "      <td>18</td>\n",
              "      <td>female</td>\n",
              "      <td>36.850</td>\n",
              "      <td>0</td>\n",
              "      <td>no</td>\n",
              "      <td>southeast</td>\n",
              "      <td>1629.83350</td>\n",
              "    </tr>\n",
              "    <tr>\n",
              "      <th>1336</th>\n",
              "      <td>21</td>\n",
              "      <td>female</td>\n",
              "      <td>25.800</td>\n",
              "      <td>0</td>\n",
              "      <td>no</td>\n",
              "      <td>southwest</td>\n",
              "      <td>2007.94500</td>\n",
              "    </tr>\n",
              "    <tr>\n",
              "      <th>1337</th>\n",
              "      <td>61</td>\n",
              "      <td>female</td>\n",
              "      <td>29.070</td>\n",
              "      <td>0</td>\n",
              "      <td>yes</td>\n",
              "      <td>northwest</td>\n",
              "      <td>29141.36030</td>\n",
              "    </tr>\n",
              "  </tbody>\n",
              "</table>\n",
              "<p>1338 rows × 7 columns</p>\n",
              "</div>"
            ],
            "text/plain": [
              "      age     sex     bmi  children smoker     region      charges\n",
              "0      19  female  27.900         0    yes  southwest  16884.92400\n",
              "1      18    male  33.770         1     no  southeast   1725.55230\n",
              "2      28    male  33.000         3     no  southeast   4449.46200\n",
              "3      33    male  22.705         0     no  northwest  21984.47061\n",
              "4      32    male  28.880         0     no  northwest   3866.85520\n",
              "...   ...     ...     ...       ...    ...        ...          ...\n",
              "1333   50    male  30.970         3     no  northwest  10600.54830\n",
              "1334   18  female  31.920         0     no  northeast   2205.98080\n",
              "1335   18  female  36.850         0     no  southeast   1629.83350\n",
              "1336   21  female  25.800         0     no  southwest   2007.94500\n",
              "1337   61  female  29.070         0    yes  northwest  29141.36030\n",
              "\n",
              "[1338 rows x 7 columns]"
            ]
          },
          "metadata": {
            "tags": []
          },
          "execution_count": 68
        }
      ]
    },
    {
      "cell_type": "code",
      "metadata": {
        "id": "anMA_KjFbC00"
      },
      "source": [
        "X = df_train.iloc[:, :-1].values #selecting from 4th to before last column of the dataframe\r\n",
        "y = df_train.iloc[:, -1].values #selecting last column"
      ],
      "execution_count": 69,
      "outputs": []
    },
    {
      "cell_type": "code",
      "metadata": {
        "colab": {
          "base_uri": "https://localhost:8080/"
        },
        "id": "W5NP9xSIbMoQ",
        "outputId": "5caf5996-ab5d-4ed1-8848-5a605f865851"
      },
      "source": [
        "X"
      ],
      "execution_count": 70,
      "outputs": [
        {
          "output_type": "execute_result",
          "data": {
            "text/plain": [
              "array([[19, 'female', 27.9, 0, 'yes', 'southwest'],\n",
              "       [18, 'male', 33.77, 1, 'no', 'southeast'],\n",
              "       [28, 'male', 33.0, 3, 'no', 'southeast'],\n",
              "       ...,\n",
              "       [18, 'female', 36.85, 0, 'no', 'southeast'],\n",
              "       [21, 'female', 25.8, 0, 'no', 'southwest'],\n",
              "       [61, 'female', 29.07, 0, 'yes', 'northwest']], dtype=object)"
            ]
          },
          "metadata": {
            "tags": []
          },
          "execution_count": 70
        }
      ]
    },
    {
      "cell_type": "code",
      "metadata": {
        "colab": {
          "base_uri": "https://localhost:8080/"
        },
        "id": "oaeaCr_lbPQS",
        "outputId": "80ad00f0-7ab6-4164-972c-e25ec5b382a5"
      },
      "source": [
        "y"
      ],
      "execution_count": 71,
      "outputs": [
        {
          "output_type": "execute_result",
          "data": {
            "text/plain": [
              "array([16884.924 ,  1725.5523,  4449.462 , ...,  1629.8335,  2007.945 ,\n",
              "       29141.3603])"
            ]
          },
          "metadata": {
            "tags": []
          },
          "execution_count": 71
        }
      ]
    },
    {
      "cell_type": "markdown",
      "metadata": {
        "id": "Sm4uUIufZj4c"
      },
      "source": [
        "Perform label encoding to convert sex column\r\n",
        "\r\n",
        "**Limitation of label Encoding**\r\n",
        "\r\n",
        "Label encoding convert the data in machine readable form, but it assigns a unique number(starting from 0) to each class of data. This may lead to the generation of priority issue in training of data sets. A label with high value may be considered to have high priority than a label having lower value."
      ]
    },
    {
      "cell_type": "code",
      "metadata": {
        "id": "ssj82UZtZqyA"
      },
      "source": [
        "from sklearn.preprocessing import LabelEncoder\r\n",
        "le = LabelEncoder()\r\n",
        "X[:, 1] = le.fit_transform(X[:, 1]) "
      ],
      "execution_count": 72,
      "outputs": []
    },
    {
      "cell_type": "code",
      "metadata": {
        "colab": {
          "base_uri": "https://localhost:8080/"
        },
        "id": "s6cYX2ttbUOA",
        "outputId": "bd47a680-1b66-4aa2-a593-7d2009ae5557"
      },
      "source": [
        "X"
      ],
      "execution_count": 73,
      "outputs": [
        {
          "output_type": "execute_result",
          "data": {
            "text/plain": [
              "array([[19, 0, 27.9, 0, 'yes', 'southwest'],\n",
              "       [18, 1, 33.77, 1, 'no', 'southeast'],\n",
              "       [28, 1, 33.0, 3, 'no', 'southeast'],\n",
              "       ...,\n",
              "       [18, 0, 36.85, 0, 'no', 'southeast'],\n",
              "       [21, 0, 25.8, 0, 'no', 'southwest'],\n",
              "       [61, 0, 29.07, 0, 'yes', 'northwest']], dtype=object)"
            ]
          },
          "metadata": {
            "tags": []
          },
          "execution_count": 73
        }
      ]
    },
    {
      "cell_type": "markdown",
      "metadata": {
        "id": "Kr3qPtAda3rp"
      },
      "source": [
        "perform label encoder for smoker column"
      ]
    },
    {
      "cell_type": "code",
      "metadata": {
        "id": "FhaqpIynalO3"
      },
      "source": [
        "X[:, 4] = le.fit_transform(X[:, 4]) "
      ],
      "execution_count": 74,
      "outputs": []
    },
    {
      "cell_type": "code",
      "metadata": {
        "colab": {
          "base_uri": "https://localhost:8080/"
        },
        "id": "sMqYFMgIapJW",
        "outputId": "f437b7e7-1f9b-4398-c87d-fdea9d126d07"
      },
      "source": [
        "X"
      ],
      "execution_count": 75,
      "outputs": [
        {
          "output_type": "execute_result",
          "data": {
            "text/plain": [
              "array([[19, 0, 27.9, 0, 1, 'southwest'],\n",
              "       [18, 1, 33.77, 1, 0, 'southeast'],\n",
              "       [28, 1, 33.0, 3, 0, 'southeast'],\n",
              "       ...,\n",
              "       [18, 0, 36.85, 0, 0, 'southeast'],\n",
              "       [21, 0, 25.8, 0, 0, 'southwest'],\n",
              "       [61, 0, 29.07, 0, 1, 'northwest']], dtype=object)"
            ]
          },
          "metadata": {
            "tags": []
          },
          "execution_count": 75
        }
      ]
    },
    {
      "cell_type": "code",
      "metadata": {
        "colab": {
          "base_uri": "https://localhost:8080/",
          "height": 406
        },
        "id": "qxl6JCcgc2Ag",
        "outputId": "a427f3ae-f2f4-40c3-a567-9db412812962"
      },
      "source": [
        "df_train"
      ],
      "execution_count": 76,
      "outputs": [
        {
          "output_type": "execute_result",
          "data": {
            "text/html": [
              "<div>\n",
              "<style scoped>\n",
              "    .dataframe tbody tr th:only-of-type {\n",
              "        vertical-align: middle;\n",
              "    }\n",
              "\n",
              "    .dataframe tbody tr th {\n",
              "        vertical-align: top;\n",
              "    }\n",
              "\n",
              "    .dataframe thead th {\n",
              "        text-align: right;\n",
              "    }\n",
              "</style>\n",
              "<table border=\"1\" class=\"dataframe\">\n",
              "  <thead>\n",
              "    <tr style=\"text-align: right;\">\n",
              "      <th></th>\n",
              "      <th>age</th>\n",
              "      <th>sex</th>\n",
              "      <th>bmi</th>\n",
              "      <th>children</th>\n",
              "      <th>smoker</th>\n",
              "      <th>region</th>\n",
              "      <th>charges</th>\n",
              "    </tr>\n",
              "  </thead>\n",
              "  <tbody>\n",
              "    <tr>\n",
              "      <th>0</th>\n",
              "      <td>19</td>\n",
              "      <td>female</td>\n",
              "      <td>27.900</td>\n",
              "      <td>0</td>\n",
              "      <td>yes</td>\n",
              "      <td>southwest</td>\n",
              "      <td>16884.92400</td>\n",
              "    </tr>\n",
              "    <tr>\n",
              "      <th>1</th>\n",
              "      <td>18</td>\n",
              "      <td>male</td>\n",
              "      <td>33.770</td>\n",
              "      <td>1</td>\n",
              "      <td>no</td>\n",
              "      <td>southeast</td>\n",
              "      <td>1725.55230</td>\n",
              "    </tr>\n",
              "    <tr>\n",
              "      <th>2</th>\n",
              "      <td>28</td>\n",
              "      <td>male</td>\n",
              "      <td>33.000</td>\n",
              "      <td>3</td>\n",
              "      <td>no</td>\n",
              "      <td>southeast</td>\n",
              "      <td>4449.46200</td>\n",
              "    </tr>\n",
              "    <tr>\n",
              "      <th>3</th>\n",
              "      <td>33</td>\n",
              "      <td>male</td>\n",
              "      <td>22.705</td>\n",
              "      <td>0</td>\n",
              "      <td>no</td>\n",
              "      <td>northwest</td>\n",
              "      <td>21984.47061</td>\n",
              "    </tr>\n",
              "    <tr>\n",
              "      <th>4</th>\n",
              "      <td>32</td>\n",
              "      <td>male</td>\n",
              "      <td>28.880</td>\n",
              "      <td>0</td>\n",
              "      <td>no</td>\n",
              "      <td>northwest</td>\n",
              "      <td>3866.85520</td>\n",
              "    </tr>\n",
              "    <tr>\n",
              "      <th>...</th>\n",
              "      <td>...</td>\n",
              "      <td>...</td>\n",
              "      <td>...</td>\n",
              "      <td>...</td>\n",
              "      <td>...</td>\n",
              "      <td>...</td>\n",
              "      <td>...</td>\n",
              "    </tr>\n",
              "    <tr>\n",
              "      <th>1333</th>\n",
              "      <td>50</td>\n",
              "      <td>male</td>\n",
              "      <td>30.970</td>\n",
              "      <td>3</td>\n",
              "      <td>no</td>\n",
              "      <td>northwest</td>\n",
              "      <td>10600.54830</td>\n",
              "    </tr>\n",
              "    <tr>\n",
              "      <th>1334</th>\n",
              "      <td>18</td>\n",
              "      <td>female</td>\n",
              "      <td>31.920</td>\n",
              "      <td>0</td>\n",
              "      <td>no</td>\n",
              "      <td>northeast</td>\n",
              "      <td>2205.98080</td>\n",
              "    </tr>\n",
              "    <tr>\n",
              "      <th>1335</th>\n",
              "      <td>18</td>\n",
              "      <td>female</td>\n",
              "      <td>36.850</td>\n",
              "      <td>0</td>\n",
              "      <td>no</td>\n",
              "      <td>southeast</td>\n",
              "      <td>1629.83350</td>\n",
              "    </tr>\n",
              "    <tr>\n",
              "      <th>1336</th>\n",
              "      <td>21</td>\n",
              "      <td>female</td>\n",
              "      <td>25.800</td>\n",
              "      <td>0</td>\n",
              "      <td>no</td>\n",
              "      <td>southwest</td>\n",
              "      <td>2007.94500</td>\n",
              "    </tr>\n",
              "    <tr>\n",
              "      <th>1337</th>\n",
              "      <td>61</td>\n",
              "      <td>female</td>\n",
              "      <td>29.070</td>\n",
              "      <td>0</td>\n",
              "      <td>yes</td>\n",
              "      <td>northwest</td>\n",
              "      <td>29141.36030</td>\n",
              "    </tr>\n",
              "  </tbody>\n",
              "</table>\n",
              "<p>1338 rows × 7 columns</p>\n",
              "</div>"
            ],
            "text/plain": [
              "      age     sex     bmi  children smoker     region      charges\n",
              "0      19  female  27.900         0    yes  southwest  16884.92400\n",
              "1      18    male  33.770         1     no  southeast   1725.55230\n",
              "2      28    male  33.000         3     no  southeast   4449.46200\n",
              "3      33    male  22.705         0     no  northwest  21984.47061\n",
              "4      32    male  28.880         0     no  northwest   3866.85520\n",
              "...   ...     ...     ...       ...    ...        ...          ...\n",
              "1333   50    male  30.970         3     no  northwest  10600.54830\n",
              "1334   18  female  31.920         0     no  northeast   2205.98080\n",
              "1335   18  female  36.850         0     no  southeast   1629.83350\n",
              "1336   21  female  25.800         0     no  southwest   2007.94500\n",
              "1337   61  female  29.070         0    yes  northwest  29141.36030\n",
              "\n",
              "[1338 rows x 7 columns]"
            ]
          },
          "metadata": {
            "tags": []
          },
          "execution_count": 76
        }
      ]
    },
    {
      "cell_type": "code",
      "metadata": {
        "colab": {
          "base_uri": "https://localhost:8080/"
        },
        "id": "3Dhu07u4bbcF",
        "outputId": "8eda8de2-8122-4818-cd2b-3186ca539190"
      },
      "source": [
        "df_train['region'].unique()"
      ],
      "execution_count": 77,
      "outputs": [
        {
          "output_type": "execute_result",
          "data": {
            "text/plain": [
              "array(['southwest', 'southeast', 'northwest', 'northeast'], dtype=object)"
            ]
          },
          "metadata": {
            "tags": []
          },
          "execution_count": 77
        }
      ]
    },
    {
      "cell_type": "markdown",
      "metadata": {
        "id": "iJNlgHLGcRqF"
      },
      "source": [
        "Performing one hot encoding"
      ]
    },
    {
      "cell_type": "code",
      "metadata": {
        "id": "JF1-2GvxcQ0D"
      },
      "source": [
        "from sklearn.compose import ColumnTransformer\r\n",
        "from sklearn.preprocessing import OneHotEncoder\r\n",
        "ct = ColumnTransformer(transformers=[('encoder', OneHotEncoder(), [-1])], remainder='passthrough')\r\n",
        "X = np.array(ct.fit_transform(X))"
      ],
      "execution_count": 78,
      "outputs": []
    },
    {
      "cell_type": "code",
      "metadata": {
        "colab": {
          "base_uri": "https://localhost:8080/"
        },
        "id": "lxtTee44cfbc",
        "outputId": "83e341af-ab28-4c3b-d5aa-b36d30a5963d"
      },
      "source": [
        "X"
      ],
      "execution_count": 79,
      "outputs": [
        {
          "output_type": "execute_result",
          "data": {
            "text/plain": [
              "array([[0.0, 0.0, 0.0, ..., 27.9, 0, 1],\n",
              "       [0.0, 0.0, 1.0, ..., 33.77, 1, 0],\n",
              "       [0.0, 0.0, 1.0, ..., 33.0, 3, 0],\n",
              "       ...,\n",
              "       [0.0, 0.0, 1.0, ..., 36.85, 0, 0],\n",
              "       [0.0, 0.0, 0.0, ..., 25.8, 0, 0],\n",
              "       [0.0, 1.0, 0.0, ..., 29.07, 0, 1]], dtype=object)"
            ]
          },
          "metadata": {
            "tags": []
          },
          "execution_count": 79
        }
      ]
    },
    {
      "cell_type": "code",
      "metadata": {
        "colab": {
          "base_uri": "https://localhost:8080/"
        },
        "id": "EHGkp_c268N9",
        "outputId": "094aee98-9658-4803-9939-7890b190b895"
      },
      "source": [
        "X[0] # southwest"
      ],
      "execution_count": 80,
      "outputs": [
        {
          "output_type": "execute_result",
          "data": {
            "text/plain": [
              "array([0.0, 0.0, 0.0, 1.0, 19, 0, 27.9, 0, 1], dtype=object)"
            ]
          },
          "metadata": {
            "tags": []
          },
          "execution_count": 80
        }
      ]
    },
    {
      "cell_type": "code",
      "metadata": {
        "colab": {
          "base_uri": "https://localhost:8080/"
        },
        "id": "Y5viXK_dB4Fk",
        "outputId": "c17afaea-ceca-46db-8776-4858964f2314"
      },
      "source": [
        "X[1] #southeast"
      ],
      "execution_count": 81,
      "outputs": [
        {
          "output_type": "execute_result",
          "data": {
            "text/plain": [
              "array([0.0, 0.0, 1.0, 0.0, 18, 1, 33.77, 1, 0], dtype=object)"
            ]
          },
          "metadata": {
            "tags": []
          },
          "execution_count": 81
        }
      ]
    },
    {
      "cell_type": "code",
      "metadata": {
        "colab": {
          "base_uri": "https://localhost:8080/"
        },
        "id": "-Xwgv_eYCDCR",
        "outputId": "dcd59032-b53b-47f3-b75d-d281fb451043"
      },
      "source": [
        "X[3] #northwest"
      ],
      "execution_count": 82,
      "outputs": [
        {
          "output_type": "execute_result",
          "data": {
            "text/plain": [
              "array([0.0, 1.0, 0.0, 0.0, 33, 1, 22.705, 0, 0], dtype=object)"
            ]
          },
          "metadata": {
            "tags": []
          },
          "execution_count": 82
        }
      ]
    },
    {
      "cell_type": "code",
      "metadata": {
        "colab": {
          "base_uri": "https://localhost:8080/"
        },
        "id": "NMlQHkYBDDV3",
        "outputId": "39cd0922-1bf3-4184-887e-ce1e348e0e94"
      },
      "source": [
        "X[1334] #northeast"
      ],
      "execution_count": 83,
      "outputs": [
        {
          "output_type": "execute_result",
          "data": {
            "text/plain": [
              "array([1.0, 0.0, 0.0, 0.0, 18, 0, 31.92, 0, 0], dtype=object)"
            ]
          },
          "metadata": {
            "tags": []
          },
          "execution_count": 83
        }
      ]
    },
    {
      "cell_type": "code",
      "metadata": {
        "id": "n80afFcGdZIQ"
      },
      "source": [
        "from sklearn.model_selection import train_test_split\r\n",
        "X_train, X_test, y_train, y_test = train_test_split(X, y, test_size = 0.2, random_state = 0)"
      ],
      "execution_count": 84,
      "outputs": []
    },
    {
      "cell_type": "code",
      "metadata": {
        "id": "eqtDEgCoda6_"
      },
      "source": [
        "from sklearn.preprocessing import StandardScaler\r\n",
        "sc = StandardScaler() #standardizing data of all columns so that all the columns have same scale\r\n",
        "X_train = sc.fit_transform(X_train) \r\n",
        "X_test = sc.transform(X_test)"
      ],
      "execution_count": 85,
      "outputs": []
    },
    {
      "cell_type": "code",
      "metadata": {
        "colab": {
          "base_uri": "https://localhost:8080/"
        },
        "id": "TO5PeIzucI_H",
        "outputId": "af4f5e6b-d842-4b61-a641-0be7ab9ce832"
      },
      "source": [
        "X_train"
      ],
      "execution_count": 86,
      "outputs": [
        {
          "output_type": "execute_result",
          "data": {
            "text/plain": [
              "array([[-0.55071651, -0.55791981, -0.6155209 , ...,  0.54530479,\n",
              "         2.41394802,  1.97125461],\n",
              "       [-0.55071651, -0.55791981,  1.6246402 , ...,  0.59867181,\n",
              "        -0.89219519, -0.50729114],\n",
              "       [ 1.81581628, -0.55791981, -0.6155209 , ...,  0.96092064,\n",
              "         0.76087642,  1.97125461],\n",
              "       ...,\n",
              "       [-0.55071651, -0.55791981,  1.6246402 , ..., -0.91339361,\n",
              "        -0.89219519, -0.50729114],\n",
              "       [-0.55071651,  1.79237229, -0.6155209 , ...,  0.77656186,\n",
              "        -0.89219519, -0.50729114],\n",
              "       [-0.55071651, -0.55791981, -0.6155209 , ..., -1.97749955,\n",
              "        -0.06565939, -0.50729114]])"
            ]
          },
          "metadata": {
            "tags": []
          },
          "execution_count": 86
        }
      ]
    },
    {
      "cell_type": "code",
      "metadata": {
        "colab": {
          "base_uri": "https://localhost:8080/"
        },
        "id": "UqXC1DpOckdW",
        "outputId": "b453c741-56c3-41fc-f37a-8979757f1721"
      },
      "source": [
        "X_test"
      ],
      "execution_count": 87,
      "outputs": [
        {
          "output_type": "execute_result",
          "data": {
            "text/plain": [
              "array([[-0.55071651, -0.55791981, -0.6155209 , ..., -0.08539629,\n",
              "        -0.06565939, -0.50729114],\n",
              "       [-0.55071651, -0.55791981,  1.6246402 , ..., -0.21962242,\n",
              "        -0.06565939, -0.50729114],\n",
              "       [-0.55071651,  1.79237229, -0.6155209 , ...,  1.59081313,\n",
              "         0.76087642,  1.97125461],\n",
              "       ...,\n",
              "       [ 1.81581628, -0.55791981, -0.6155209 , ...,  1.54472343,\n",
              "        -0.89219519, -0.50729114],\n",
              "       [-0.55071651, -0.55791981,  1.6246402 , ...,  1.34581001,\n",
              "         1.58741222,  1.97125461],\n",
              "       [ 1.81581628, -0.55791981, -0.6155209 , ..., -0.95948331,\n",
              "         1.58741222, -0.50729114]])"
            ]
          },
          "metadata": {
            "tags": []
          },
          "execution_count": 87
        }
      ]
    },
    {
      "cell_type": "markdown",
      "metadata": {
        "id": "7ouzNdtSjbHk"
      },
      "source": [
        "Linear Regression model"
      ]
    },
    {
      "cell_type": "code",
      "metadata": {
        "id": "Y2Y3ije_eu7P"
      },
      "source": [
        "from sklearn.linear_model import LinearRegression\r\n",
        "from sklearn import metrics\r\n",
        "from sklearn import ensemble\r\n",
        "from sklearn.linear_model import Lasso,Ridge"
      ],
      "execution_count": 88,
      "outputs": []
    },
    {
      "cell_type": "code",
      "metadata": {
        "colab": {
          "base_uri": "https://localhost:8080/"
        },
        "id": "4F0wT-iWcm3N",
        "outputId": "ea963171-b3b0-45ca-94f0-bc3182bb8da7"
      },
      "source": [
        "linear_model = LinearRegression()\r\n",
        "linear_model.fit(X_train,y_train)\r\n",
        "\r\n",
        "#predictions on train data\r\n",
        "x_pred = linear_model.predict(X_train)\r\n",
        "x_pred = x_pred.reshape(-1,1)\r\n",
        "\r\n",
        "x_pred"
      ],
      "execution_count": 89,
      "outputs": [
        {
          "output_type": "execute_result",
          "data": {
            "text/plain": [
              "array([[33086.15996457],\n",
              "       [ 3643.18985361],\n",
              "       [30686.15996457],\n",
              "       ...,\n",
              "       [ 6139.18985361],\n",
              "       [ 4635.18985361],\n",
              "       [ 2027.18985361]])"
            ]
          },
          "metadata": {
            "tags": []
          },
          "execution_count": 89
        }
      ]
    },
    {
      "cell_type": "code",
      "metadata": {
        "colab": {
          "base_uri": "https://localhost:8080/"
        },
        "id": "krgOi4n1gWue",
        "outputId": "c549a9bd-103f-4e9d-ac43-737d0eb63100"
      },
      "source": [
        "#Prediction of validation data\r\n",
        "y_predictions = linear_model.predict(X_test)\r\n",
        "y_predictions= y_predictions.reshape(-1,1)\r\n",
        "y_predictions"
      ],
      "execution_count": 90,
      "outputs": [
        {
          "output_type": "execute_result",
          "data": {
            "text/plain": [
              "array([[10763.18985361],\n",
              "       [ 9787.18985361],\n",
              "       [38126.15996457],\n",
              "       [16267.18985361],\n",
              "       [ 6987.18985361],\n",
              "       [ 3979.18985361],\n",
              "       [ 1547.18985361],\n",
              "       [14347.18985361],\n",
              "       [ 8987.18985361],\n",
              "       [ 7483.18985361],\n",
              "       [ 4475.18985361],\n",
              "       [10299.18985361],\n",
              "       [ 8363.18985361],\n",
              "       [ 4107.18985361],\n",
              "       [27902.15996457],\n",
              "       [10987.18985361],\n",
              "       [11355.18985361],\n",
              "       [ 6075.18985361],\n",
              "       [ 8251.18985361],\n",
              "       [27070.15996457],\n",
              "       [33662.15996457],\n",
              "       [14347.18985361],\n",
              "       [11723.18985361],\n",
              "       [32414.15996457],\n",
              "       [ 4443.18985361],\n",
              "       [ 9195.18985361],\n",
              "       [ 1099.18985361],\n",
              "       [10059.18985361],\n",
              "       [ 4075.18985361],\n",
              "       [10443.18985361],\n",
              "       [ 8987.18985361],\n",
              "       [40318.15996457],\n",
              "       [15259.18985361],\n",
              "       [13451.18985361],\n",
              "       [24734.15996457],\n",
              "       [ 5131.18985361],\n",
              "       [12875.18985361],\n",
              "       [30270.15996457],\n",
              "       [33502.15996457],\n",
              "       [ 3195.18985361],\n",
              "       [ 3979.18985361],\n",
              "       [ 4299.18985361],\n",
              "       [30494.15996457],\n",
              "       [39470.15996457],\n",
              "       [28014.15996457],\n",
              "       [ 5067.18985361],\n",
              "       [10891.18985361],\n",
              "       [ 7867.18985361],\n",
              "       [ 3579.18985361],\n",
              "       [10539.18985361],\n",
              "       [ 5659.18985361],\n",
              "       [ 3387.18985361],\n",
              "       [32574.15996457],\n",
              "       [38366.15996457],\n",
              "       [16315.18985361],\n",
              "       [ 7115.18985361],\n",
              "       [ 5995.18985361],\n",
              "       [ 9499.18985361],\n",
              "       [ 9195.18985361],\n",
              "       [11787.18985361],\n",
              "       [ 1419.18985361],\n",
              "       [38878.15996457],\n",
              "       [15179.18985361],\n",
              "       [11371.18985361],\n",
              "       [13979.18985361],\n",
              "       [13579.18985361],\n",
              "       [26078.15996457],\n",
              "       [32158.15996457],\n",
              "       [ 1115.18985361],\n",
              "       [10139.18985361],\n",
              "       [11963.18985361],\n",
              "       [11851.18985361],\n",
              "       [24782.15996457],\n",
              "       [15915.18985361],\n",
              "       [11259.18985361],\n",
              "       [12651.18985361],\n",
              "       [ 6171.18985361],\n",
              "       [ 9883.18985361],\n",
              "       [30126.15996457],\n",
              "       [38654.15996457],\n",
              "       [12043.18985361],\n",
              "       [37486.15996457],\n",
              "       [ 4267.18985361],\n",
              "       [ 8971.18985361],\n",
              "       [34782.15996457],\n",
              "       [29118.15996457],\n",
              "       [ 8171.18985361],\n",
              "       [ 4939.18985361],\n",
              "       [11643.18985361],\n",
              "       [29998.15996457],\n",
              "       [ 9979.18985361],\n",
              "       [11003.18985361],\n",
              "       [ 8315.18985361],\n",
              "       [ 9195.18985361],\n",
              "       [ 8395.18985361],\n",
              "       [ 7275.18985361],\n",
              "       [35982.15996457],\n",
              "       [32718.15996457],\n",
              "       [ 7627.18985361],\n",
              "       [14683.18985361],\n",
              "       [ 4299.18985361],\n",
              "       [ 8827.18985361],\n",
              "       [ 6571.18985361],\n",
              "       [31806.15996457],\n",
              "       [32958.15996457],\n",
              "       [ 1995.18985361],\n",
              "       [ 8651.18985361],\n",
              "       [ 6667.18985361],\n",
              "       [14571.18985361],\n",
              "       [36798.15996457],\n",
              "       [10155.18985361],\n",
              "       [10827.18985361],\n",
              "       [10235.18985361],\n",
              "       [26910.15996457],\n",
              "       [40126.15996457],\n",
              "       [ 8459.18985361],\n",
              "       [ -116.81014639],\n",
              "       [ 8619.18985361],\n",
              "       [14827.18985361],\n",
              "       [ 9547.18985361],\n",
              "       [35374.15996457],\n",
              "       [ 7339.18985361],\n",
              "       [16539.18985361],\n",
              "       [ 9563.18985361],\n",
              "       [ 7819.18985361],\n",
              "       [ 2971.18985361],\n",
              "       [32878.15996457],\n",
              "       [31486.15996457],\n",
              "       [39150.15996457],\n",
              "       [ 5579.18985361],\n",
              "       [ 9595.18985361],\n",
              "       [ 3851.18985361],\n",
              "       [ 7931.18985361],\n",
              "       [ 8651.18985361],\n",
              "       [31278.15996457],\n",
              "       [29518.15996457],\n",
              "       [30078.15996457],\n",
              "       [ 9035.18985361],\n",
              "       [32718.15996457],\n",
              "       [ 3371.18985361],\n",
              "       [ 3691.18985361],\n",
              "       [11179.18985361],\n",
              "       [13419.18985361],\n",
              "       [12843.18985361],\n",
              "       [ 5483.18985361],\n",
              "       [15883.18985361],\n",
              "       [15211.18985361],\n",
              "       [ 2411.18985361],\n",
              "       [   59.18985361],\n",
              "       [10843.18985361],\n",
              "       [ 7387.18985361],\n",
              "       [32062.15996457],\n",
              "       [12379.18985361],\n",
              "       [ 2619.18985361],\n",
              "       [ 6427.18985361],\n",
              "       [ 8155.18985361],\n",
              "       [ 4443.18985361],\n",
              "       [ 2395.18985361],\n",
              "       [11339.18985361],\n",
              "       [12507.18985361],\n",
              "       [ 7179.18985361],\n",
              "       [16683.18985361],\n",
              "       [11851.18985361],\n",
              "       [13643.18985361],\n",
              "       [ 3179.18985361],\n",
              "       [ 7211.18985361],\n",
              "       [22670.15996457],\n",
              "       [ 7515.18985361],\n",
              "       [ 5467.18985361],\n",
              "       [ 5435.18985361],\n",
              "       [ 6747.18985361],\n",
              "       [ 5163.18985361],\n",
              "       [ 9995.18985361],\n",
              "       [ 5643.18985361],\n",
              "       [ 5275.18985361],\n",
              "       [ 6875.18985361],\n",
              "       [ 3691.18985361],\n",
              "       [ 5627.18985361],\n",
              "       [38014.15996457],\n",
              "       [ 1483.18985361],\n",
              "       [12651.18985361],\n",
              "       [ 8939.18985361],\n",
              "       [13803.18985361],\n",
              "       [ 5675.18985361],\n",
              "       [ 5195.18985361],\n",
              "       [36446.15996457],\n",
              "       [ 4363.18985361],\n",
              "       [ 1595.18985361],\n",
              "       [15243.18985361],\n",
              "       [12651.18985361],\n",
              "       [35102.15996457],\n",
              "       [ 5035.18985361],\n",
              "       [ 5259.18985361],\n",
              "       [31534.15996457],\n",
              "       [ 6187.18985361],\n",
              "       [ 1723.18985361],\n",
              "       [ 8427.18985361],\n",
              "       [ 9963.18985361],\n",
              "       [ 8267.18985361],\n",
              "       [ 5819.18985361],\n",
              "       [13115.18985361],\n",
              "       [38750.15996457],\n",
              "       [13755.18985361],\n",
              "       [28398.15996457],\n",
              "       [ 6795.18985361],\n",
              "       [35758.15996457],\n",
              "       [ 3755.18985361],\n",
              "       [12203.18985361],\n",
              "       [ 9307.18985361],\n",
              "       [ 6491.18985361],\n",
              "       [11387.18985361],\n",
              "       [14555.18985361],\n",
              "       [ 5147.18985361],\n",
              "       [ 3995.18985361],\n",
              "       [ 7499.18985361],\n",
              "       [  923.18985361],\n",
              "       [ 7819.18985361],\n",
              "       [ 4411.18985361],\n",
              "       [13179.18985361],\n",
              "       [ 4267.18985361],\n",
              "       [ 9611.18985361],\n",
              "       [ 7179.18985361],\n",
              "       [ 8875.18985361],\n",
              "       [ 2379.18985361],\n",
              "       [12811.18985361],\n",
              "       [16875.18985361],\n",
              "       [15211.18985361],\n",
              "       [10203.18985361],\n",
              "       [ 5611.18985361],\n",
              "       [ 2539.18985361],\n",
              "       [ 2219.18985361],\n",
              "       [13467.18985361],\n",
              "       [14347.18985361],\n",
              "       [ 4923.18985361],\n",
              "       [ 4059.18985361],\n",
              "       [ 9051.18985361],\n",
              "       [ 9963.18985361],\n",
              "       [28222.15996457],\n",
              "       [ 7643.18985361],\n",
              "       [10475.18985361],\n",
              "       [ 5883.18985361],\n",
              "       [29758.15996457],\n",
              "       [10683.18985361],\n",
              "       [ 7499.18985361],\n",
              "       [10219.18985361],\n",
              "       [12283.18985361],\n",
              "       [ 2987.18985361],\n",
              "       [10859.18985361],\n",
              "       [ 1515.18985361],\n",
              "       [ 7035.18985361],\n",
              "       [28686.15996457],\n",
              "       [38222.15996457],\n",
              "       [ 5883.18985361],\n",
              "       [ 8411.18985361],\n",
              "       [ 2475.18985361],\n",
              "       [  427.18985361],\n",
              "       [10123.18985361],\n",
              "       [ 4443.18985361],\n",
              "       [ 4939.18985361],\n",
              "       [ 2651.18985361],\n",
              "       [ 7131.18985361],\n",
              "       [32958.15996457],\n",
              "       [38206.15996457],\n",
              "       [14763.18985361],\n",
              "       [ 8315.18985361],\n",
              "       [16107.18985361],\n",
              "       [33086.15996457],\n",
              "       [ 9451.18985361]])"
            ]
          },
          "metadata": {
            "tags": []
          },
          "execution_count": 90
        }
      ]
    },
    {
      "cell_type": "code",
      "metadata": {
        "colab": {
          "base_uri": "https://localhost:8080/"
        },
        "id": "w-yx733LhCjV",
        "outputId": "cddf3d11-e83b-42cb-aa01-eeed2c728709"
      },
      "source": [
        "def scores_(y,x):\r\n",
        "    print('MAE:', metrics.mean_absolute_error(y, x))\r\n",
        "    print('MSE:', metrics.mean_squared_error(y, x))\r\n",
        "    print('RMSE:', np.sqrt(metrics.mean_squared_error(y, x)))\r\n",
        "    print('R2 Score:' ,metrics.r2_score(y,x))\r\n",
        "\r\n",
        "print('InSample_accuracy')\r\n",
        "scores_(y_train, x_pred)\r\n",
        "print('---------------------------')\r\n",
        "print('OutSample_accuracy')\r\n",
        "scores_(y_test,y_predictions)"
      ],
      "execution_count": 91,
      "outputs": [
        {
          "output_type": "stream",
          "text": [
            "InSample_accuracy\n",
            "MAE: 4235.478281175303\n",
            "MSE: 37770269.68547195\n",
            "RMSE: 6145.752165965689\n",
            "R2 Score: 0.736546809854427\n",
            "---------------------------\n",
            "OutSample_accuracy\n",
            "MAE: 3929.6376020595667\n",
            "MSE: 31827610.780321147\n",
            "RMSE: 5641.596474431785\n",
            "R2 Score: 0.7999898302251041\n"
          ],
          "name": "stdout"
        }
      ]
    },
    {
      "cell_type": "code",
      "metadata": {
        "colab": {
          "base_uri": "https://localhost:8080/"
        },
        "id": "5_D0rNFtjxX6",
        "outputId": "3e0b6269-8c71-4e67-f7da-b6d19c69a4af"
      },
      "source": [
        "from sklearn.externals import joblib\r\n",
        "joblib.dump(linear_model, \"/content/drive/MyDrive/Colab Notebooks/Projects/Health Insurance Charges Prediction/HealthInsurancePrediction.pkl\")\r\n"
      ],
      "execution_count": 92,
      "outputs": [
        {
          "output_type": "execute_result",
          "data": {
            "text/plain": [
              "['/content/drive/MyDrive/Colab Notebooks/Projects/Health Insurance Charges Prediction/HealthInsurancePrediction.pkl']"
            ]
          },
          "metadata": {
            "tags": []
          },
          "execution_count": 92
        }
      ]
    },
    {
      "cell_type": "code",
      "metadata": {
        "colab": {
          "base_uri": "https://localhost:8080/",
          "height": 406
        },
        "id": "ktDLCai5xOT-",
        "outputId": "489147aa-57d6-4fc3-e765-9ce40c123c76"
      },
      "source": [
        "df_train"
      ],
      "execution_count": 93,
      "outputs": [
        {
          "output_type": "execute_result",
          "data": {
            "text/html": [
              "<div>\n",
              "<style scoped>\n",
              "    .dataframe tbody tr th:only-of-type {\n",
              "        vertical-align: middle;\n",
              "    }\n",
              "\n",
              "    .dataframe tbody tr th {\n",
              "        vertical-align: top;\n",
              "    }\n",
              "\n",
              "    .dataframe thead th {\n",
              "        text-align: right;\n",
              "    }\n",
              "</style>\n",
              "<table border=\"1\" class=\"dataframe\">\n",
              "  <thead>\n",
              "    <tr style=\"text-align: right;\">\n",
              "      <th></th>\n",
              "      <th>age</th>\n",
              "      <th>sex</th>\n",
              "      <th>bmi</th>\n",
              "      <th>children</th>\n",
              "      <th>smoker</th>\n",
              "      <th>region</th>\n",
              "      <th>charges</th>\n",
              "    </tr>\n",
              "  </thead>\n",
              "  <tbody>\n",
              "    <tr>\n",
              "      <th>0</th>\n",
              "      <td>19</td>\n",
              "      <td>female</td>\n",
              "      <td>27.900</td>\n",
              "      <td>0</td>\n",
              "      <td>yes</td>\n",
              "      <td>southwest</td>\n",
              "      <td>16884.92400</td>\n",
              "    </tr>\n",
              "    <tr>\n",
              "      <th>1</th>\n",
              "      <td>18</td>\n",
              "      <td>male</td>\n",
              "      <td>33.770</td>\n",
              "      <td>1</td>\n",
              "      <td>no</td>\n",
              "      <td>southeast</td>\n",
              "      <td>1725.55230</td>\n",
              "    </tr>\n",
              "    <tr>\n",
              "      <th>2</th>\n",
              "      <td>28</td>\n",
              "      <td>male</td>\n",
              "      <td>33.000</td>\n",
              "      <td>3</td>\n",
              "      <td>no</td>\n",
              "      <td>southeast</td>\n",
              "      <td>4449.46200</td>\n",
              "    </tr>\n",
              "    <tr>\n",
              "      <th>3</th>\n",
              "      <td>33</td>\n",
              "      <td>male</td>\n",
              "      <td>22.705</td>\n",
              "      <td>0</td>\n",
              "      <td>no</td>\n",
              "      <td>northwest</td>\n",
              "      <td>21984.47061</td>\n",
              "    </tr>\n",
              "    <tr>\n",
              "      <th>4</th>\n",
              "      <td>32</td>\n",
              "      <td>male</td>\n",
              "      <td>28.880</td>\n",
              "      <td>0</td>\n",
              "      <td>no</td>\n",
              "      <td>northwest</td>\n",
              "      <td>3866.85520</td>\n",
              "    </tr>\n",
              "    <tr>\n",
              "      <th>...</th>\n",
              "      <td>...</td>\n",
              "      <td>...</td>\n",
              "      <td>...</td>\n",
              "      <td>...</td>\n",
              "      <td>...</td>\n",
              "      <td>...</td>\n",
              "      <td>...</td>\n",
              "    </tr>\n",
              "    <tr>\n",
              "      <th>1333</th>\n",
              "      <td>50</td>\n",
              "      <td>male</td>\n",
              "      <td>30.970</td>\n",
              "      <td>3</td>\n",
              "      <td>no</td>\n",
              "      <td>northwest</td>\n",
              "      <td>10600.54830</td>\n",
              "    </tr>\n",
              "    <tr>\n",
              "      <th>1334</th>\n",
              "      <td>18</td>\n",
              "      <td>female</td>\n",
              "      <td>31.920</td>\n",
              "      <td>0</td>\n",
              "      <td>no</td>\n",
              "      <td>northeast</td>\n",
              "      <td>2205.98080</td>\n",
              "    </tr>\n",
              "    <tr>\n",
              "      <th>1335</th>\n",
              "      <td>18</td>\n",
              "      <td>female</td>\n",
              "      <td>36.850</td>\n",
              "      <td>0</td>\n",
              "      <td>no</td>\n",
              "      <td>southeast</td>\n",
              "      <td>1629.83350</td>\n",
              "    </tr>\n",
              "    <tr>\n",
              "      <th>1336</th>\n",
              "      <td>21</td>\n",
              "      <td>female</td>\n",
              "      <td>25.800</td>\n",
              "      <td>0</td>\n",
              "      <td>no</td>\n",
              "      <td>southwest</td>\n",
              "      <td>2007.94500</td>\n",
              "    </tr>\n",
              "    <tr>\n",
              "      <th>1337</th>\n",
              "      <td>61</td>\n",
              "      <td>female</td>\n",
              "      <td>29.070</td>\n",
              "      <td>0</td>\n",
              "      <td>yes</td>\n",
              "      <td>northwest</td>\n",
              "      <td>29141.36030</td>\n",
              "    </tr>\n",
              "  </tbody>\n",
              "</table>\n",
              "<p>1338 rows × 7 columns</p>\n",
              "</div>"
            ],
            "text/plain": [
              "      age     sex     bmi  children smoker     region      charges\n",
              "0      19  female  27.900         0    yes  southwest  16884.92400\n",
              "1      18    male  33.770         1     no  southeast   1725.55230\n",
              "2      28    male  33.000         3     no  southeast   4449.46200\n",
              "3      33    male  22.705         0     no  northwest  21984.47061\n",
              "4      32    male  28.880         0     no  northwest   3866.85520\n",
              "...   ...     ...     ...       ...    ...        ...          ...\n",
              "1333   50    male  30.970         3     no  northwest  10600.54830\n",
              "1334   18  female  31.920         0     no  northeast   2205.98080\n",
              "1335   18  female  36.850         0     no  southeast   1629.83350\n",
              "1336   21  female  25.800         0     no  southwest   2007.94500\n",
              "1337   61  female  29.070         0    yes  northwest  29141.36030\n",
              "\n",
              "[1338 rows x 7 columns]"
            ]
          },
          "metadata": {
            "tags": []
          },
          "execution_count": 93
        }
      ]
    },
    {
      "cell_type": "code",
      "metadata": {
        "id": "ERkyWR2bwJJv"
      },
      "source": [
        "from sklearn.externals import joblib\r\n",
        "age = 28\r\n",
        "sex = 'male' #male=1, female=0\r\n",
        "bmi = 33.200\r\n",
        "children = 2\r\n",
        "smoker = 'no' #yes=1, no=0\r\n",
        "region = 'northwest' "
      ],
      "execution_count": 94,
      "outputs": []
    },
    {
      "cell_type": "markdown",
      "metadata": {
        "id": "cO6mn2uVF8Dq"
      },
      "source": [
        "converting the input record into model accepted format"
      ]
    },
    {
      "cell_type": "code",
      "metadata": {
        "id": "RkPDQG0P0fd9"
      },
      "source": [
        "pred_args=[0,1,0,0,28,1,33,3,0]"
      ],
      "execution_count": 95,
      "outputs": []
    },
    {
      "cell_type": "markdown",
      "metadata": {
        "id": "_R8MG3rcG67I"
      },
      "source": [
        "Convert into numpy array format"
      ]
    },
    {
      "cell_type": "code",
      "metadata": {
        "id": "yPCBJZjN0qMJ"
      },
      "source": [
        "pred_args_arr=np.array(pred_args)\r\n",
        "pred_args_arr = pred_args_arr.reshape(1, -1)"
      ],
      "execution_count": 96,
      "outputs": []
    },
    {
      "cell_type": "markdown",
      "metadata": {
        "id": "Pw4YPrejJwP2"
      },
      "source": [
        "We need to use transform() method not the fit_transform() method to test for new data"
      ]
    },
    {
      "cell_type": "code",
      "metadata": {
        "id": "dzQ38zuWG5dH"
      },
      "source": [
        "pred_args_arr=sc.transform(pred_args_arr)"
      ],
      "execution_count": 97,
      "outputs": []
    },
    {
      "cell_type": "code",
      "metadata": {
        "colab": {
          "base_uri": "https://localhost:8080/"
        },
        "id": "QWnVKohA1Tc5",
        "outputId": "6e0d074d-5697-4223-b38a-cad0b782f979"
      },
      "source": [
        "pred_args_arr"
      ],
      "execution_count": 98,
      "outputs": [
        {
          "output_type": "execute_result",
          "data": {
            "text/plain": [
              "array([[-0.55071651,  1.79237229, -0.6155209 , -0.58526447, -0.78766322,\n",
              "         1.01506676,  0.36741474,  1.58741222, -0.50729114]])"
            ]
          },
          "metadata": {
            "tags": []
          },
          "execution_count": 98
        }
      ]
    },
    {
      "cell_type": "code",
      "metadata": {
        "colab": {
          "base_uri": "https://localhost:8080/"
        },
        "id": "6ypS4fnLzqdN",
        "outputId": "d46b4051-681b-448d-e07e-60df9cdf427d"
      },
      "source": [
        "mul_reg = open(\"/content/drive/MyDrive/Colab Notebooks/Projects/Health Insurance Charges Prediction/HealthInsurancePrediction.pkl\",\"rb\")\r\n",
        "ml_model = joblib.load(mul_reg)\r\n",
        "model_prediction = ml_model.predict(pred_args_arr)\r\n",
        "\r\n",
        "round(float(model_prediction), 2)"
      ],
      "execution_count": 99,
      "outputs": [
        {
          "output_type": "execute_result",
          "data": {
            "text/plain": [
              "7371.93"
            ]
          },
          "metadata": {
            "tags": []
          },
          "execution_count": 99
        }
      ]
    },
    {
      "cell_type": "markdown",
      "metadata": {
        "id": "kHp2eJNTMXF9"
      },
      "source": [
        "Putting multiple objects into the pickle file such as linear_model and sc (standardscaler)"
      ]
    },
    {
      "cell_type": "code",
      "metadata": {
        "id": "SqJBfNkDK_9v",
        "colab": {
          "base_uri": "https://localhost:8080/"
        },
        "outputId": "5868b5b4-c650-4cbe-da27-fd35f34382cb"
      },
      "source": [
        "joblib.dump((linear_model,sc), \"/content/drive/MyDrive/Colab Notebooks/Projects/Health Insurance Charges Prediction/HealthInsurancePrediction.pkl\")\r\n"
      ],
      "execution_count": 100,
      "outputs": [
        {
          "output_type": "execute_result",
          "data": {
            "text/plain": [
              "['/content/drive/MyDrive/Colab Notebooks/Projects/Health Insurance Charges Prediction/HealthInsurancePrediction.pkl']"
            ]
          },
          "metadata": {
            "tags": []
          },
          "execution_count": 100
        }
      ]
    },
    {
      "cell_type": "code",
      "metadata": {
        "colab": {
          "base_uri": "https://localhost:8080/"
        },
        "id": "ErVs_xu_mfNb",
        "outputId": "0a4e0e9b-2529-42f8-a848-eb20fa45e98b"
      },
      "source": [
        "mul_reg = open(\"/content/drive/MyDrive/Colab Notebooks/Projects/Health Insurance Charges Prediction/HealthInsurancePrediction.pkl\",\"rb\")\r\n",
        "lin_model,std_scalar = joblib.load(mul_reg)\r\n",
        "model_prediction = lin_model.predict(pred_args_arr)\r\n",
        "\r\n",
        "round(float(model_prediction), 2)"
      ],
      "execution_count": 101,
      "outputs": [
        {
          "output_type": "execute_result",
          "data": {
            "text/plain": [
              "7371.93"
            ]
          },
          "metadata": {
            "tags": []
          },
          "execution_count": 101
        }
      ]
    }
  ]
}